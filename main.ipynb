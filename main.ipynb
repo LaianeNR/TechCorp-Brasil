{
 "cells": [
  {
   "cell_type": "code",
   "execution_count": 1,
   "id": "66f54a14",
   "metadata": {},
   "outputs": [],
   "source": [
    "import pandas as pd\n",
    "import numpy as np"
   ]
  },
  {
   "cell_type": "code",
   "execution_count": 2,
   "id": "12043b36",
   "metadata": {},
   "outputs": [],
   "source": [
    "def gerar_dataframe_tratamento(qtd=1_000_000, seed=42):\n",
    "    np.random.seed(seed)\n",
    "\n",
    "    # Demográficas\n",
    "    id_funcionario = np.arange(1, qtd + 1)\n",
    "    idade = np.random.randint(18, 60, size=qtd)\n",
    "\n",
    "    # Definir probabilidades para Gênero usando variáveis\n",
    "    prob_masculino = 0.45\n",
    "    prob_feminino = 0.35\n",
    "    prob_nao_informar_genero = 0.20\n",
    "    genero_choices = ['Masculino', 'Feminino', 'Prefiro não informar']\n",
    "    genero_probs = [prob_masculino, prob_feminino, prob_nao_informar_genero]\n",
    "\n",
    "    # Usar as variáveis para gerar a coluna Gênero\n",
    "    genero = np.random.choice(genero_choices, size=qtd, p=genero_probs)\n",
    "\n",
    "    estado_civil = np.random.choice(['Solteiro(a)', 'Casado(a)', 'Divorciado(a)', 'Prefiro não informar'], size=qtd)\n",
    "    escolaridade = np.random.choice(['Ensino Médio', 'Graduação', 'Pós', 'Mestrado', 'Doutorado', 'Prefiro não informar'], size=qtd)\n",
    "    cor_raca = np.random.choice(['Branca', 'Preta', 'Parda', 'Amarela', 'Indígena', 'Prefiro não informar'], size=qtd)\n",
    "    pcd = np.random.choice(['Sim', 'Não'], size=qtd, p=[0.05, 0.95])\n",
    "    estado_uf = np.random.choice(['SP', 'RJ', 'MG', 'BA', 'RS', 'CE', 'DF', 'PE', 'AM','MT','PR','AL','SC', ' ','Não informado'], size=qtd)\n",
    "\n",
    "    # Profissionais\n",
    "    area_formacao = np.random.choice(['Cientista de Dados/Data Scientist', 'Desenvolvedor', 'Engenhario de Software', 'Marketing',\n",
    "                                      'RH','Product Manager/ Product Owner (PM/APM/DPM/GPM/PO)','Analista de Dados/Data Analyst',\n",
    "                                      'Prefiro não informar'], size=qtd)\n",
    "    departamento = np.random.choice(['Vendas', 'RH', 'TI', 'Pesquisa', 'Negorcio'], size=qtd)\n",
    "    cargo = np.random.choice(['Especialista','Cordenador','Gerente', 'Senior', 'Pleno', 'Junior', 'Estagiário','Prefiro não informar'], size=qtd)\n",
    "    nivel_cargo = np.random.randint(1, 6, size=qtd)\n",
    "    envolvimento_trabalho = np.random.randint(1, 5, size=qtd)\n",
    "    anos_na_empresa = np.random.randint(0, 41, size=qtd)\n",
    "\n",
    "    # Compensação\n",
    "    salario_mensal = np.random.randint(1500, 25000, size=qtd)\n",
    "    faixa_salarial = pd.cut(salario_mensal, bins=[0, 3000, 7000, 12000, 18000, np.inf],\n",
    "                            labels=['Muito baixa', 'Baixa', 'Média', 'Alta', 'Muito alta'])\n",
    "    aumento_salarial = np.random.randint(0, 30, size=qtd)\n",
    "    nivel_opcao_acao = np.random.randint(0, 4, size=qtd)\n",
    "\n",
    "    # Satisfação\n",
    "    satisfacao_trabalho = np.random.randint(1, 6, size=qtd)\n",
    "    satisfacao_ambiente = np.random.randint(1, 6, size=qtd)\n",
    "    satisfacao_relacionamento = np.random.randint(1, 6, size=qtd)\n",
    "\n",
    "    # Estilo de vida\n",
    "    hora_extra = np.random.choice(['Sim', 'Não'], size=qtd, p=[0.3, 0.7])\n",
    "    equilibrio_vida_trabalho = np.random.randint(1, 5, size=qtd)\n",
    "    viagem_negocios = np.random.choice(['Nunca', 'Raramente', 'Frequentemente'], size=qtd)\n",
    "    distancia_casa = np.random.randint(1, 50, size=qtd)\n",
    "\n",
    "    # Desempenho\n",
    "    avaliacao_desempenho = np.random.choice([3, 4], size=qtd, p=[0.9, 0.1])\n",
    "    treinamentos_ano = np.random.randint(0, 6, size=qtd)\n",
    "\n",
    "    # Mudança de emprego\n",
    "    pretende_mudar = np.random.choice(['Sim', 'Não', 'Prefiro não informar'], size=qtd, p=[0.3, 0.6, 0.1])\n",
    "    motivo_mudanca = np.random.choice([\n",
    "        'Salário', 'Home Office', 'Ambiente de trabalho',\n",
    "        'Desenvolvimento profissional', 'Mudança de cidade', 'Não responder'], size=qtd)\n",
    "\n",
    "    # Target: Saiu da empresa (desbalanceado)\n",
    "    saiu_da_empresa = np.random.choice(['Sim', 'Não'], size=qtd, p=[0.16, 0.84])\n"
   ]
  },
  {
   "cell_type": "code",
   "execution_count": null,
   "id": "b3cb756f",
   "metadata": {},
   "outputs": [],
   "source": []
  }
 ],
 "metadata": {
  "kernelspec": {
   "display_name": "Python 3",
   "language": "python",
   "name": "python3"
  },
  "language_info": {
   "codemirror_mode": {
    "name": "ipython",
    "version": 3
   },
   "file_extension": ".py",
   "mimetype": "text/x-python",
   "name": "python",
   "nbconvert_exporter": "python",
   "pygments_lexer": "ipython3",
   "version": "3.12.6"
  }
 },
 "nbformat": 4,
 "nbformat_minor": 5
}
